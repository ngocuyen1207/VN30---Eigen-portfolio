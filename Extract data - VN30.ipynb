{
 "cells": [
  {
   "cell_type": "code",
   "execution_count": 1,
   "id": "60dc5bac",
   "metadata": {},
   "outputs": [],
   "source": [
    "from vnquant.DataLoader import DataLoader\n",
    "from vnquant import Plot\n",
    "from vnquant import utils\n",
    "import seaborn as sns\n",
    "import pandas as pd\n",
    "import vnquant.DataLoader as web\n",
    "import matplotlib.pyplot as plt\n",
    "from matplotlib.widgets import Slider, Button\n",
    "import pandas_datareader.data as pdreader\n",
    "import yfinance as yf\n",
    "  \n",
    "import math\n",
    "import pandas as pd\n",
    "import numpy as np\n",
    "import datetime as dt\n",
    "import matplotlib.pyplot as plt\n",
    "from matplotlib import style\n",
    "import seaborn as sns\n",
    "from scipy.stats import randint as sp_randint\n",
    "\n",
    "from sklearn.decomposition import PCA\n",
    "\n",
    "style.use(\"ggplot\")"
   ]
  },
  {
   "cell_type": "markdown",
   "id": "acf8bef6",
   "metadata": {},
   "source": [
    "## Các cổ phiếu VN30"
   ]
  },
  {
   "cell_type": "code",
   "execution_count": 78,
   "id": "56d8bbbe",
   "metadata": {},
   "outputs": [
    {
     "name": "stderr",
     "output_type": "stream",
     "text": [
      "C:\\Users\\VV765QV\\Anaconda3\\lib\\site-packages\\vnquant\\DataLoader.py:251: FutureWarning: Columnar iteration over characters will be deprecated in future releases.\n",
      "  stock_data['change_perc1'], stock_data['change_perc2'] = stock_data['change_perc'].apply(utils.split_change_col).str\n",
      "2021-09-04 22:44:24,610 : INFO : data ACB from 2000-01-01 to 2021-08-31 have already cloned!\n",
      "C:\\Users\\VV765QV\\Anaconda3\\lib\\site-packages\\vnquant\\DataLoader.py:251: FutureWarning: Columnar iteration over characters will be deprecated in future releases.\n",
      "  stock_data['change_perc1'], stock_data['change_perc2'] = stock_data['change_perc'].apply(utils.split_change_col).str\n",
      "2021-09-04 22:45:03,445 : INFO : data BID from 2000-01-01 to 2021-08-31 have already cloned!\n",
      "C:\\Users\\VV765QV\\Anaconda3\\lib\\site-packages\\vnquant\\DataLoader.py:251: FutureWarning: Columnar iteration over characters will be deprecated in future releases.\n",
      "  stock_data['change_perc1'], stock_data['change_perc2'] = stock_data['change_perc'].apply(utils.split_change_col).str\n",
      "2021-09-04 22:46:25,349 : INFO : data BVH from 2000-01-01 to 2021-08-31 have already cloned!\n",
      "C:\\Users\\VV765QV\\Anaconda3\\lib\\site-packages\\vnquant\\DataLoader.py:251: FutureWarning: Columnar iteration over characters will be deprecated in future releases.\n",
      "  stock_data['change_perc1'], stock_data['change_perc2'] = stock_data['change_perc'].apply(utils.split_change_col).str\n",
      "2021-09-04 22:47:28,256 : INFO : data CTG from 2000-01-01 to 2021-08-31 have already cloned!\n",
      "C:\\Users\\VV765QV\\Anaconda3\\lib\\site-packages\\vnquant\\DataLoader.py:251: FutureWarning: Columnar iteration over characters will be deprecated in future releases.\n",
      "  stock_data['change_perc1'], stock_data['change_perc2'] = stock_data['change_perc'].apply(utils.split_change_col).str\n",
      "2021-09-04 22:49:10,266 : INFO : data FPT from 2000-01-01 to 2021-08-31 have already cloned!\n",
      "C:\\Users\\VV765QV\\Anaconda3\\lib\\site-packages\\vnquant\\DataLoader.py:251: FutureWarning: Columnar iteration over characters will be deprecated in future releases.\n",
      "  stock_data['change_perc1'], stock_data['change_perc2'] = stock_data['change_perc'].apply(utils.split_change_col).str\n",
      "2021-09-04 22:49:56,291 : INFO : data GAS from 2000-01-01 to 2021-08-31 have already cloned!\n",
      "C:\\Users\\VV765QV\\Anaconda3\\lib\\site-packages\\vnquant\\DataLoader.py:251: FutureWarning: Columnar iteration over characters will be deprecated in future releases.\n",
      "  stock_data['change_perc1'], stock_data['change_perc2'] = stock_data['change_perc'].apply(utils.split_change_col).str\n",
      "2021-09-04 22:50:19,873 : INFO : data GVR from 2000-01-01 to 2021-08-31 have already cloned!\n",
      "C:\\Users\\VV765QV\\Anaconda3\\lib\\site-packages\\vnquant\\DataLoader.py:251: FutureWarning: Columnar iteration over characters will be deprecated in future releases.\n",
      "  stock_data['change_perc1'], stock_data['change_perc2'] = stock_data['change_perc'].apply(utils.split_change_col).str\n",
      "2021-09-04 22:50:36,639 : INFO : data HDB from 2000-01-01 to 2021-08-31 have already cloned!\n",
      "C:\\Users\\VV765QV\\Anaconda3\\lib\\site-packages\\vnquant\\DataLoader.py:251: FutureWarning: Columnar iteration over characters will be deprecated in future releases.\n",
      "  stock_data['change_perc1'], stock_data['change_perc2'] = stock_data['change_perc'].apply(utils.split_change_col).str\n",
      "2021-09-04 22:51:59,717 : INFO : data HPG from 2000-01-01 to 2021-08-31 have already cloned!\n",
      "C:\\Users\\VV765QV\\Anaconda3\\lib\\site-packages\\vnquant\\DataLoader.py:251: FutureWarning: Columnar iteration over characters will be deprecated in future releases.\n",
      "  stock_data['change_perc1'], stock_data['change_perc2'] = stock_data['change_perc'].apply(utils.split_change_col).str\n",
      "2021-09-04 22:53:03,804 : INFO : data KDH from 2000-01-01 to 2021-08-31 have already cloned!\n",
      "C:\\Users\\VV765QV\\Anaconda3\\lib\\site-packages\\vnquant\\DataLoader.py:251: FutureWarning: Columnar iteration over characters will be deprecated in future releases.\n",
      "  stock_data['change_perc1'], stock_data['change_perc2'] = stock_data['change_perc'].apply(utils.split_change_col).str\n",
      "2021-09-04 22:53:48,062 : INFO : data MBB from 2000-01-01 to 2021-08-31 have already cloned!\n",
      "C:\\Users\\VV765QV\\Anaconda3\\lib\\site-packages\\vnquant\\DataLoader.py:251: FutureWarning: Columnar iteration over characters will be deprecated in future releases.\n",
      "  stock_data['change_perc1'], stock_data['change_perc2'] = stock_data['change_perc'].apply(utils.split_change_col).str\n",
      "2021-09-04 22:54:44,114 : INFO : data MSN from 2000-01-01 to 2021-08-31 have already cloned!\n",
      "C:\\Users\\VV765QV\\Anaconda3\\lib\\site-packages\\vnquant\\DataLoader.py:251: FutureWarning: Columnar iteration over characters will be deprecated in future releases.\n",
      "  stock_data['change_perc1'], stock_data['change_perc2'] = stock_data['change_perc'].apply(utils.split_change_col).str\n",
      "2021-09-04 22:55:25,504 : INFO : data MWG from 2000-01-01 to 2021-08-31 have already cloned!\n",
      "C:\\Users\\VV765QV\\Anaconda3\\lib\\site-packages\\vnquant\\DataLoader.py:251: FutureWarning: Columnar iteration over characters will be deprecated in future releases.\n",
      "  stock_data['change_perc1'], stock_data['change_perc2'] = stock_data['change_perc'].apply(utils.split_change_col).str\n",
      "2021-09-04 22:55:52,354 : INFO : data NVL from 2000-01-01 to 2021-08-31 have already cloned!\n",
      "C:\\Users\\VV765QV\\Anaconda3\\lib\\site-packages\\vnquant\\DataLoader.py:251: FutureWarning: Columnar iteration over characters will be deprecated in future releases.\n",
      "  stock_data['change_perc1'], stock_data['change_perc2'] = stock_data['change_perc'].apply(utils.split_change_col).str\n",
      "2021-09-04 22:56:47,926 : INFO : data PDR from 2000-01-01 to 2021-08-31 have already cloned!\n",
      "C:\\Users\\VV765QV\\Anaconda3\\lib\\site-packages\\vnquant\\DataLoader.py:251: FutureWarning: Columnar iteration over characters will be deprecated in future releases.\n",
      "  stock_data['change_perc1'], stock_data['change_perc2'] = stock_data['change_perc'].apply(utils.split_change_col).str\n",
      "2021-09-04 22:57:09,345 : INFO : data PLX from 2000-01-01 to 2021-08-31 have already cloned!\n",
      "C:\\Users\\VV765QV\\Anaconda3\\lib\\site-packages\\vnquant\\DataLoader.py:251: FutureWarning: Columnar iteration over characters will be deprecated in future releases.\n",
      "  stock_data['change_perc1'], stock_data['change_perc2'] = stock_data['change_perc'].apply(utils.split_change_col).str\n",
      "2021-09-04 22:58:14,247 : INFO : data PNJ from 2000-01-01 to 2021-08-31 have already cloned!\n",
      "C:\\Users\\VV765QV\\Anaconda3\\lib\\site-packages\\vnquant\\DataLoader.py:251: FutureWarning: Columnar iteration over characters will be deprecated in future releases.\n",
      "  stock_data['change_perc1'], stock_data['change_perc2'] = stock_data['change_perc'].apply(utils.split_change_col).str\n",
      "2021-09-04 22:58:28,124 : INFO : data POW from 2000-01-01 to 2021-08-31 have already cloned!\n",
      "C:\\Users\\VV765QV\\Anaconda3\\lib\\site-packages\\vnquant\\DataLoader.py:251: FutureWarning: Columnar iteration over characters will be deprecated in future releases.\n",
      "  stock_data['change_perc1'], stock_data['change_perc2'] = stock_data['change_perc'].apply(utils.split_change_col).str\n",
      "2021-09-04 22:58:47,290 : INFO : data SAB from 2000-01-01 to 2021-08-31 have already cloned!\n",
      "C:\\Users\\VV765QV\\Anaconda3\\lib\\site-packages\\vnquant\\DataLoader.py:251: FutureWarning: Columnar iteration over characters will be deprecated in future releases.\n",
      "  stock_data['change_perc1'], stock_data['change_perc2'] = stock_data['change_perc'].apply(utils.split_change_col).str\n",
      "2021-09-04 22:59:47,786 : INFO : data SSI from 2000-01-01 to 2021-08-31 have already cloned!\n",
      "C:\\Users\\VV765QV\\Anaconda3\\lib\\site-packages\\vnquant\\DataLoader.py:251: FutureWarning: Columnar iteration over characters will be deprecated in future releases.\n",
      "  stock_data['change_perc1'], stock_data['change_perc2'] = stock_data['change_perc'].apply(utils.split_change_col).str\n",
      "2021-09-04 23:00:49,484 : INFO : data STB from 2000-01-01 to 2021-08-31 have already cloned!\n",
      "C:\\Users\\VV765QV\\Anaconda3\\lib\\site-packages\\vnquant\\DataLoader.py:251: FutureWarning: Columnar iteration over characters will be deprecated in future releases.\n",
      "  stock_data['change_perc1'], stock_data['change_perc2'] = stock_data['change_perc'].apply(utils.split_change_col).str\n",
      "2021-09-04 23:01:02,323 : INFO : data TCB from 2000-01-01 to 2021-08-31 have already cloned!\n"
     ]
    },
    {
     "name": "stderr",
     "output_type": "stream",
     "text": [
      "C:\\Users\\VV765QV\\Anaconda3\\lib\\site-packages\\vnquant\\DataLoader.py:251: FutureWarning: Columnar iteration over characters will be deprecated in future releases.\n",
      "  stock_data['change_perc1'], stock_data['change_perc2'] = stock_data['change_perc'].apply(utils.split_change_col).str\n",
      "2021-09-04 23:01:15,703 : INFO : data TPB from 2000-01-01 to 2021-08-31 have already cloned!\n",
      "C:\\Users\\VV765QV\\Anaconda3\\lib\\site-packages\\vnquant\\DataLoader.py:251: FutureWarning: Columnar iteration over characters will be deprecated in future releases.\n",
      "  stock_data['change_perc1'], stock_data['change_perc2'] = stock_data['change_perc'].apply(utils.split_change_col).str\n",
      "2021-09-04 23:02:01,162 : INFO : data VCB from 2000-01-01 to 2021-08-31 have already cloned!\n",
      "C:\\Users\\VV765QV\\Anaconda3\\lib\\site-packages\\vnquant\\DataLoader.py:251: FutureWarning: Columnar iteration over characters will be deprecated in future releases.\n",
      "  stock_data['change_perc1'], stock_data['change_perc2'] = stock_data['change_perc'].apply(utils.split_change_col).str\n",
      "2021-09-04 23:02:13,321 : INFO : data VHM from 2000-01-01 to 2021-08-31 have already cloned!\n",
      "C:\\Users\\VV765QV\\Anaconda3\\lib\\site-packages\\vnquant\\DataLoader.py:251: FutureWarning: Columnar iteration over characters will be deprecated in future releases.\n",
      "  stock_data['change_perc1'], stock_data['change_perc2'] = stock_data['change_perc'].apply(utils.split_change_col).str\n",
      "2021-09-04 23:03:16,303 : INFO : data VIC from 2000-01-01 to 2021-08-31 have already cloned!\n",
      "C:\\Users\\VV765QV\\Anaconda3\\lib\\site-packages\\vnquant\\DataLoader.py:251: FutureWarning: Columnar iteration over characters will be deprecated in future releases.\n",
      "  stock_data['change_perc1'], stock_data['change_perc2'] = stock_data['change_perc'].apply(utils.split_change_col).str\n",
      "2021-09-04 23:03:31,673 : INFO : data VJC from 2000-01-01 to 2021-08-31 have already cloned!\n",
      "C:\\Users\\VV765QV\\Anaconda3\\lib\\site-packages\\vnquant\\DataLoader.py:251: FutureWarning: Columnar iteration over characters will be deprecated in future releases.\n",
      "  stock_data['change_perc1'], stock_data['change_perc2'] = stock_data['change_perc'].apply(utils.split_change_col).str\n",
      "2021-09-04 23:04:37,130 : INFO : data VNM from 2000-01-01 to 2021-08-31 have already cloned!\n",
      "C:\\Users\\VV765QV\\Anaconda3\\lib\\site-packages\\vnquant\\DataLoader.py:251: FutureWarning: Columnar iteration over characters will be deprecated in future releases.\n",
      "  stock_data['change_perc1'], stock_data['change_perc2'] = stock_data['change_perc'].apply(utils.split_change_col).str\n",
      "2021-09-04 23:04:52,884 : INFO : data VPB from 2000-01-01 to 2021-08-31 have already cloned!\n",
      "C:\\Users\\VV765QV\\Anaconda3\\lib\\site-packages\\vnquant\\DataLoader.py:251: FutureWarning: Columnar iteration over characters will be deprecated in future releases.\n",
      "  stock_data['change_perc1'], stock_data['change_perc2'] = stock_data['change_perc'].apply(utils.split_change_col).str\n",
      "2021-09-04 23:05:06,244 : INFO : data VRE from 2000-01-01 to 2021-08-31 have already cloned!\n"
     ]
    }
   ],
   "source": [
    "df = pd.DataFrame()\n",
    "VN30list = ['ACB','BID','BVH','CTG','FPT','GAS','GVR','HDB','HPG','KDH','MBB','MSN','MWG','NVL','PDR','PLX','PNJ','POW','SAB','SSI','STB','TCB','TPB','VCB','VHM','VIC','VJC','VNM','VPB','VRE']\n",
    "loader = [str(i) + '_loader' for i in VN30list]\n",
    "for i in VN30list:\n",
    "    loader[VN30list.index(i)] = web.DataLoader(i, '2000-1-1','2021-08-31', minimal = 'False')\n",
    "    i = loader[VN30list.index(i)].download()\n",
    "    df=pd.concat([df,i['close']], axis=1)"
   ]
  },
  {
   "cell_type": "code",
   "execution_count": 79,
   "id": "891f7f91",
   "metadata": {},
   "outputs": [],
   "source": [
    "df.to_excel(r'C:\\Users\\VV765QV\\OneDrive - EY\\Training\\Leave\\Data Science\\VN30\\VN30.xlsx')"
   ]
  }
 ],
 "metadata": {
  "kernelspec": {
   "display_name": "Python 3",
   "language": "python",
   "name": "python3"
  },
  "language_info": {
   "codemirror_mode": {
    "name": "ipython",
    "version": 3
   },
   "file_extension": ".py",
   "mimetype": "text/x-python",
   "name": "python",
   "nbconvert_exporter": "python",
   "pygments_lexer": "ipython3",
   "version": "3.8.8"
  }
 },
 "nbformat": 4,
 "nbformat_minor": 5
}
